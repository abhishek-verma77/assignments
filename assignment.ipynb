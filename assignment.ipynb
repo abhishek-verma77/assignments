{
 "cells": [
  {
   "cell_type": "code",
   "execution_count": 7,
   "id": "bdff7b91-c2bb-4807-8b73-76250c6c8772",
   "metadata": {},
   "outputs": [
    {
     "data": {
      "text/plain": [
       "str"
      ]
     },
     "execution_count": 7,
     "metadata": {},
     "output_type": "execute_result"
    }
   ],
   "source": [
    "a='abhishek'\n",
    "type(a)"
   ]
  },
  {
   "cell_type": "code",
   "execution_count": 9,
   "id": "26780dd1-82a1-4fb7-b500-128e262487d6",
   "metadata": {},
   "outputs": [
    {
     "data": {
      "text/plain": [
       "list"
      ]
     },
     "execution_count": 9,
     "metadata": {},
     "output_type": "execute_result"
    }
   ],
   "source": [
    "l=[2,3,4,5,'abhishek',2.86]\n",
    "type(l)"
   ]
  },
  {
   "cell_type": "code",
   "execution_count": 13,
   "id": "94d3ea09-766d-4e3f-ac6e-e5293d68b220",
   "metadata": {},
   "outputs": [
    {
     "data": {
      "text/plain": [
       "float"
      ]
     },
     "execution_count": 13,
     "metadata": {},
     "output_type": "execute_result"
    }
   ],
   "source": [
    "b=2.14\n",
    "type(b)"
   ]
  },
  {
   "cell_type": "code",
   "execution_count": 15,
   "id": "fe05d267-130e-4308-b6de-df46ebd1cbae",
   "metadata": {},
   "outputs": [
    {
     "data": {
      "text/plain": [
       "tuple"
      ]
     },
     "execution_count": 15,
     "metadata": {},
     "output_type": "execute_result"
    }
   ],
   "source": [
    "c=(\"abcd\",\"efgh\",\"ijkl\")\n",
    "type(c)"
   ]
  },
  {
   "cell_type": "raw",
   "id": "57d0bf0b-cfd2-477e-aa67-9ca2b265a2d2",
   "metadata": {},
   "source": [
    "1)  var1=''  ->  string\n",
    "2)  var2='[DS,ML,Python]'   ->   string\n",
    "3)   var3 = [ ‘DS’ , ’ML’ , ‘Python’ ]   ->   list\n",
    "4)   var4 = 1.  ->   integer"
   ]
  },
  {
   "cell_type": "code",
   "execution_count": 3,
   "id": "42237362-9982-4067-b9a5-7e7c3cc0bcc5",
   "metadata": {},
   "outputs": [
    {
     "data": {
      "text/plain": [
       "2.0"
      ]
     },
     "execution_count": 3,
     "metadata": {},
     "output_type": "execute_result"
    }
   ],
   "source": [
    "'''1)   is the division operator '''\n",
    "a=10\n",
    "b=5\n",
    "a/b"
   ]
  },
  {
   "cell_type": "code",
   "execution_count": 5,
   "id": "73e0c242-b3ca-4b9c-97ef-7b3b740735ed",
   "metadata": {},
   "outputs": [
    {
     "data": {
      "text/plain": [
       "2"
      ]
     },
     "execution_count": 5,
     "metadata": {},
     "output_type": "execute_result"
    }
   ],
   "source": [
    "'''  2) '%\"  is the modulus operator'''\n",
    "a=10\n",
    "b=4\n",
    "a%b"
   ]
  },
  {
   "cell_type": "code",
   "execution_count": 11,
   "id": "f760dd6f-8ba0-4c6e-8b93-9d6dd4f05de7",
   "metadata": {},
   "outputs": [
    {
     "data": {
      "text/plain": [
       "7"
      ]
     },
     "execution_count": 11,
     "metadata": {},
     "output_type": "execute_result"
    }
   ],
   "source": [
    "'''  3) '//' is the floor division operator'''\n",
    "a=30\n",
    "b=4\n",
    "a//b"
   ]
  },
  {
   "cell_type": "code",
   "execution_count": 13,
   "id": "cd062a8d-2765-4d28-b08c-b2ddcfe7eab2",
   "metadata": {},
   "outputs": [
    {
     "data": {
      "text/plain": [
       "100"
      ]
     },
     "execution_count": 13,
     "metadata": {},
     "output_type": "execute_result"
    }
   ],
   "source": [
    "'''  4) '** is used exponent operator '''\n",
    "10**2"
   ]
  },
  {
   "cell_type": "code",
   "execution_count": 25,
   "id": "37a6a3fa-6dc1-45e6-9e3f-4e8784e86502",
   "metadata": {},
   "outputs": [
    {
     "name": "stdout",
     "output_type": "stream",
     "text": [
      "<class 'int'>\n",
      "2\n",
      "<class 'int'>\n",
      "3\n",
      "<class 'int'>\n",
      "4\n",
      "<class 'int'>\n",
      "5\n",
      "<class 'str'>\n",
      "abcd\n",
      "<class 'str'>\n",
      "efgh\n",
      "<class 'float'>\n",
      "2.86\n",
      "<class 'float'>\n",
      "3.14\n",
      "<class 'bool'>\n",
      "True\n",
      "<class 'int'>\n",
      "12\n"
     ]
    }
   ],
   "source": [
    "l=[2,3,4,5,'abcd','efgh',2.86,3.14,True,12]\n",
    "for i in l:\n",
    "    print(type(i))\n",
    "    print(i)"
   ]
  },
  {
   "cell_type": "code",
   "execution_count": 23,
   "id": "7158ffcb-a8d6-4f1c-8dab-c8add86aa99b",
   "metadata": {},
   "outputs": [
    {
     "name": "stdin",
     "output_type": "stream",
     "text": [
      "enter a number 100\n",
      "enter another number 3\n"
     ]
    },
    {
     "name": "stdout",
     "output_type": "stream",
     "text": [
      "now not divisible by  3\n"
     ]
    }
   ],
   "source": [
    "a=int(input(\"enter a number\"))\n",
    "b=int(input(\"enter another number\"))\n",
    "c=a/b\n",
    "d=0\n",
    "if(a%b==0):\n",
    "    while(c>b and type(c)==int):\n",
    "        d=d+1\n",
    "        print(d)\n",
    "    print(\"the number is divisibel by \",b)\n",
    "else:\n",
    "    print(\"now not divisible by \",b)"
   ]
  },
  {
   "cell_type": "code",
   "execution_count": 39,
   "id": "140882a5-af96-41d0-9932-a5742f1686a1",
   "metadata": {},
   "outputs": [
    {
     "name": "stdout",
     "output_type": "stream",
     "text": [
      "3\n",
      "6\n",
      "9\n",
      "12\n",
      "15\n",
      "18\n",
      "21\n",
      "24\n"
     ]
    }
   ],
   "source": [
    "a=[1,2,3,4,5,6,7,8,9,10,11,12,13,14,15,16,17,18,19,20,21,22,23,24,25]\n",
    "for i in a:\n",
    "    if(i%3==0):\n",
    "        print(i)"
   ]
  },
  {
   "cell_type": "code",
   "execution_count": 43,
   "id": "f3f6e600-03e5-44c4-9b0e-86ea4764aec5",
   "metadata": {},
   "outputs": [
    {
     "name": "stdout",
     "output_type": "stream",
     "text": [
      "[1, 2, 3, 4]\n"
     ]
    }
   ],
   "source": [
    "'''Mutable data types are those that allow modifications to their state or content after\n",
    "they have been created. This means that you can change their elements, add new elements,\n",
    "or remove existing elements without creating a new object.'''\n",
    "list = [1, 2, 3]\n",
    "list.append(4)\n",
    "print(list)"
   ]
  },
  {
   "cell_type": "code",
   "execution_count": 47,
   "id": "ddd35cd1-34bb-48f3-830f-2f324c8ac464",
   "metadata": {},
   "outputs": [
    {
     "ename": "AttributeError",
     "evalue": "'tuple' object has no attribute 'append'",
     "output_type": "error",
     "traceback": [
      "\u001b[1;31m---------------------------------------------------------------------------\u001b[0m",
      "\u001b[1;31mAttributeError\u001b[0m                            Traceback (most recent call last)",
      "Cell \u001b[1;32mIn[47], line 4\u001b[0m\n\u001b[0;32m      1\u001b[0m \u001b[38;5;124;03m'''Immutable data types are those that do not allow modifications to their state or \u001b[39;00m\n\u001b[0;32m      2\u001b[0m \u001b[38;5;124;03mcontent after they have been created. '''\u001b[39;00m\n\u001b[0;32m      3\u001b[0m tup \u001b[38;5;241m=\u001b[39m (\u001b[38;5;241m1\u001b[39m,\u001b[38;5;241m2\u001b[39m,\u001b[38;5;241m3\u001b[39m,\u001b[38;5;241m4\u001b[39m)\n\u001b[1;32m----> 4\u001b[0m tup\u001b[38;5;241m.\u001b[39mappend(\u001b[38;5;241m4\u001b[39m)\n\u001b[0;32m      5\u001b[0m \u001b[38;5;28mprint\u001b[39m(tup)\n",
      "\u001b[1;31mAttributeError\u001b[0m: 'tuple' object has no attribute 'append'"
     ]
    }
   ],
   "source": [
    "'''Immutable data types are those that do not allow modifications to their state or \n",
    "content after they have been created. '''\n",
    "tup = (1,2,3,4)\n",
    "tup.append(4)\n",
    "print(tup)"
   ]
  },
  {
   "cell_type": "code",
   "execution_count": null,
   "id": "4699a9ec-f51a-4378-9445-1708fd53bd72",
   "metadata": {},
   "outputs": [],
   "source": []
  }
 ],
 "metadata": {
  "kernelspec": {
   "display_name": "Python 3 (ipykernel)",
   "language": "python",
   "name": "python3"
  },
  "language_info": {
   "codemirror_mode": {
    "name": "ipython",
    "version": 3
   },
   "file_extension": ".py",
   "mimetype": "text/x-python",
   "name": "python",
   "nbconvert_exporter": "python",
   "pygments_lexer": "ipython3",
   "version": "3.12.4"
  }
 },
 "nbformat": 4,
 "nbformat_minor": 5
}
