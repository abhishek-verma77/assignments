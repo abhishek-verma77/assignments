{
  "nbformat": 4,
  "nbformat_minor": 0,
  "metadata": {
    "colab": {
      "provenance": []
    },
    "kernelspec": {
      "name": "python3",
      "display_name": "Python 3"
    },
    "language_info": {
      "name": "python"
    }
  },
  "cells": [
    {
      "cell_type": "code",
      "execution_count": 24,
      "metadata": {
        "colab": {
          "base_uri": "https://localhost:8080/"
        },
        "id": "Dbj3zmBmPPsG",
        "outputId": "1edd7972-b048-4d33-e4db-33315180fdb2"
      },
      "outputs": [
        {
          "output_type": "stream",
          "name": "stdout",
          "text": [
            "[('Sachin Tendulkar', 34357), ('Ricky Ponting', 27483), ('Jack Kallis', 25534), ('Virat Kohli', 24936)]\n"
          ]
        }
      ],
      "source": [
        "# Ans 1\n",
        "t=[('Sachin Tendulkar', 34357), ('Ricky Ponting', 27483), ('Jack Kallis', 25534), ('Virat Kohli', 24936)]\n",
        "s=sorted(t,key=lambda x:x[1],reverse=True)\n",
        "print(s)"
      ]
    },
    {
      "cell_type": "code",
      "source": [
        "# Ans 2\n",
        "lst=[1, 2, 3, 4, 5, 6, 7, 8, 9, 10]\n",
        "list(map(lambda x:x**2,lst))"
      ],
      "metadata": {
        "colab": {
          "base_uri": "https://localhost:8080/"
        },
        "id": "PaU1OTZSTuvf",
        "outputId": "ac711a97-6735-43ec-f1fb-eae78371119c"
      },
      "execution_count": 4,
      "outputs": [
        {
          "output_type": "execute_result",
          "data": {
            "text/plain": [
              "[1, 4, 9, 16, 25, 36, 49, 64, 81, 100]"
            ]
          },
          "metadata": {},
          "execution_count": 4
        }
      ]
    },
    {
      "cell_type": "code",
      "source": [
        "# Ans 3\n",
        "lst=[1, 2, 3, 4, 5, 6, 7, 8, 9, 10]\n",
        "tuple(map(lambda x:str(x),lst))"
      ],
      "metadata": {
        "colab": {
          "base_uri": "https://localhost:8080/"
        },
        "id": "E4SdveyyaM5Y",
        "outputId": "6678ae51-5c23-4f55-90fb-12549e77fece"
      },
      "execution_count": 6,
      "outputs": [
        {
          "output_type": "execute_result",
          "data": {
            "text/plain": [
              "('1', '2', '3', '4', '5', '6', '7', '8', '9', '10')"
            ]
          },
          "metadata": {},
          "execution_count": 6
        }
      ]
    },
    {
      "cell_type": "code",
      "source": [
        "# Ans 4\n",
        "from functools import reduce\n",
        "reduce(lambda x,y:x*y,range(1,26))"
      ],
      "metadata": {
        "colab": {
          "base_uri": "https://localhost:8080/"
        },
        "id": "Jx01WeD6ajMI",
        "outputId": "1c1451c5-992d-4119-b26c-b202e1eca2e6"
      },
      "execution_count": 12,
      "outputs": [
        {
          "output_type": "execute_result",
          "data": {
            "text/plain": [
              "15511210043330985984000000"
            ]
          },
          "metadata": {},
          "execution_count": 12
        }
      ]
    },
    {
      "cell_type": "code",
      "source": [
        "# Ans 5\n",
        "lst=[2, 3, 6, 9, 27, 60, 90, 120, 55, 46]\n",
        "filter1=list(filter(lambda x:x%2==0 and x%3==0,lst))\n",
        "print(filter1)"
      ],
      "metadata": {
        "colab": {
          "base_uri": "https://localhost:8080/"
        },
        "id": "ko6XlSPeaqbA",
        "outputId": "70c8afc1-c310-4424-8c9e-4fefa860f10c"
      },
      "execution_count": 16,
      "outputs": [
        {
          "output_type": "stream",
          "name": "stdout",
          "text": [
            "[6, 60, 90, 120]\n"
          ]
        }
      ]
    },
    {
      "cell_type": "code",
      "source": [
        "# Ans 6\n",
        "given=['python', 'php', 'aba', 'radar', 'level']\n",
        "list(filter(lambda x:x==x[::-1],given))"
      ],
      "metadata": {
        "colab": {
          "base_uri": "https://localhost:8080/"
        },
        "id": "MYQR6wn5bywg",
        "outputId": "98f2e1a6-3468-4592-bce2-37166b26f44f"
      },
      "execution_count": 20,
      "outputs": [
        {
          "output_type": "execute_result",
          "data": {
            "text/plain": [
              "['php', 'aba', 'radar', 'level']"
            ]
          },
          "metadata": {},
          "execution_count": 20
        }
      ]
    }
  ]
}