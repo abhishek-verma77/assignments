{
  "nbformat": 4,
  "nbformat_minor": 0,
  "metadata": {
    "colab": {
      "provenance": []
    },
    "kernelspec": {
      "name": "python3",
      "display_name": "Python 3"
    },
    "language_info": {
      "name": "python"
    }
  },
  "cells": [
    {
      "cell_type": "code",
      "execution_count": 16,
      "metadata": {
        "id": "d2eLcz5fY7k3"
      },
      "outputs": [],
      "source": [
        "# Ans 1\n",
        "\n",
        "class vehicle() :\n",
        "  def __init__(self , name_of_vehicle, max_speed, average_of_vehicle):\n",
        "    self.name_of_vehicle = name_of_vehicle\n",
        "    self.max_speed = max_speed\n",
        "    self.average_of_vehicle = average_of_vehicle\n",
        "\n",
        "  def car_details(self):\n",
        "    return self.name_of_vehicle,self.max_speed,self.average_of_vehicle"
      ]
    },
    {
      "cell_type": "code",
      "source": [
        "vehicleobj = vehicle(\"Fortuner\", 200, 40)"
      ],
      "metadata": {
        "id": "-Pt4ilR2ZiV2"
      },
      "execution_count": 18,
      "outputs": []
    },
    {
      "cell_type": "code",
      "source": [
        "vehicleobj.car_details()"
      ],
      "metadata": {
        "colab": {
          "base_uri": "https://localhost:8080/"
        },
        "id": "dGPU8Wh_Z1jd",
        "outputId": "8c0353e4-af07-435f-aba2-4e1ee04d4506"
      },
      "execution_count": 19,
      "outputs": [
        {
          "output_type": "execute_result",
          "data": {
            "text/plain": [
              "('Fortuner', 200, 40)"
            ]
          },
          "metadata": {},
          "execution_count": 19
        }
      ]
    },
    {
      "cell_type": "code",
      "source": [
        "# Ans 2\n",
        "\n",
        "class vehicle_details(vehicle) :\n",
        "  def seating_capacity(self, seating_capacity):\n",
        "    self.seating_capacity=seating_capacity\n",
        "    return self.name_of_vehicle, self.seating_capacity"
      ],
      "metadata": {
        "id": "kFhAsuZRaA_e"
      },
      "execution_count": 22,
      "outputs": []
    },
    {
      "cell_type": "code",
      "source": [
        "details = vehicle_details(\"Fortuner\", 200, 40)\n",
        "details.seating_capacity(6)"
      ],
      "metadata": {
        "colab": {
          "base_uri": "https://localhost:8080/"
        },
        "id": "v_tMzOYWcBZH",
        "outputId": "ceb96552-f9d6-4827-e886-e2193ba1f727"
      },
      "execution_count": 25,
      "outputs": [
        {
          "output_type": "execute_result",
          "data": {
            "text/plain": [
              "('Fortuner', 6)"
            ]
          },
          "metadata": {},
          "execution_count": 25
        }
      ]
    },
    {
      "cell_type": "code",
      "source": [
        "# Ans 3\n",
        "\n",
        "\"\"\" In object-oriented programming, multiple inheritance means a class can inherit properties and methods from more\n",
        "than one parent (or base) class, allowing for a more flexible and complex class structure.\n",
        "Imagine a class called \"Bat\" that inherits from both \"Mammal\" and \"FlyingCreature\". This allows \"Bat\" to inherit\n",
        "characteristics of both mammals (like having fur) and flying creatures (like having wings). \"\"\"\n",
        "\n",
        "class class1():\n",
        "  def test1(self):\n",
        "    return \"this is class1\"\n",
        "\n",
        "class class2():\n",
        "  def test2(self):\n",
        "    return \"this is class2\"\n",
        "\n",
        "class class3(class1, class2):\n",
        "  pass"
      ],
      "metadata": {
        "id": "OkJc39H2coK7"
      },
      "execution_count": 38,
      "outputs": []
    },
    {
      "cell_type": "code",
      "source": [
        "test_class3 = class3()\n",
        "test_class3.test1()"
      ],
      "metadata": {
        "colab": {
          "base_uri": "https://localhost:8080/",
          "height": 36
        },
        "id": "o8Nos0qRjftt",
        "outputId": "509b97f1-0d74-461a-9dbd-f63594f8a2b6"
      },
      "execution_count": 41,
      "outputs": [
        {
          "output_type": "execute_result",
          "data": {
            "text/plain": [
              "'this is class1'"
            ],
            "application/vnd.google.colaboratory.intrinsic+json": {
              "type": "string"
            }
          },
          "metadata": {},
          "execution_count": 41
        }
      ]
    },
    {
      "cell_type": "code",
      "source": [
        "test_class3.test2()"
      ],
      "metadata": {
        "colab": {
          "base_uri": "https://localhost:8080/",
          "height": 36
        },
        "id": "SriHelVwjmwz",
        "outputId": "0eac966d-fb73-4010-9a13-d36b4222b451"
      },
      "execution_count": 37,
      "outputs": [
        {
          "output_type": "execute_result",
          "data": {
            "text/plain": [
              "'this is class2'"
            ],
            "application/vnd.google.colaboratory.intrinsic+json": {
              "type": "string"
            }
          },
          "metadata": {},
          "execution_count": 37
        }
      ]
    },
    {
      "cell_type": "code",
      "source": [
        "# Ans 4\n",
        "\n",
        "\"\"\" Whenever we use private access specifiers in classes, the objects do not have access to the class variabbles.\n",
        "This is why we create getter and setter. They are custom built function to allow thew user to set and retrive the value\n",
        "that has been allowed to them by the developers so that they do not modify some critical valuse unknowingly or knowingly.\"\"\"\n",
        "\n",
        "class cars():\n",
        "  def __init__(self,name,model,max_speed,price):\n",
        "    self._name = name\n",
        "    self._model = model\n",
        "    self._max_speed = max_speed\n",
        "    self._price = price\n",
        "\n",
        "\n",
        "  def get_details(self):\n",
        "    return self._name, self._model, self._max_speed, self._price\n",
        "\n",
        "  def set_details(self,new_name,new_model,new_max_speed,new_price):\n",
        "    if type(new_name) == str:\n",
        "      self._name = new_name\n",
        "    else:\n",
        "      return \"input valid brand name\"\n",
        "\n",
        "    if type(new_model) == str:\n",
        "      self._model = new_model\n",
        "    else:\n",
        "      return \"input valid model name\"\n",
        "\n",
        "    if new_max_speed > 0:\n",
        "      self._max_speed = new_max_speed\n",
        "    else:\n",
        "      return \"enter valid speed\"\n",
        "\n",
        "    if new_price > 0:\n",
        "      self._price = new_price\n",
        "    else:\n",
        "      return \"enter valid price\"\n"
      ],
      "metadata": {
        "id": "X_OacpKpj8bs"
      },
      "execution_count": 28,
      "outputs": []
    },
    {
      "cell_type": "code",
      "source": [
        "car = cars(\"honda\", \"civic\", 150, 1000000)"
      ],
      "metadata": {
        "id": "NeAEuIBQkdE1"
      },
      "execution_count": 29,
      "outputs": []
    },
    {
      "cell_type": "code",
      "source": [
        "car.get_details()"
      ],
      "metadata": {
        "colab": {
          "base_uri": "https://localhost:8080/"
        },
        "id": "r1xdG7gckqet",
        "outputId": "d59aa342-59c5-4233-d1df-b7c1f8f3f385"
      },
      "execution_count": 30,
      "outputs": [
        {
          "output_type": "execute_result",
          "data": {
            "text/plain": [
              "('honda', 'civic', 150, 1000000)"
            ]
          },
          "metadata": {},
          "execution_count": 30
        }
      ]
    },
    {
      "cell_type": "code",
      "source": [
        "car.set_details(\"mercedes\", \"s class\", 200, 2000000)"
      ],
      "metadata": {
        "id": "hlM8usQPk2Un"
      },
      "execution_count": 31,
      "outputs": []
    },
    {
      "cell_type": "code",
      "source": [
        "car.get_details()"
      ],
      "metadata": {
        "colab": {
          "base_uri": "https://localhost:8080/"
        },
        "id": "1SjQDx5Dlclt",
        "outputId": "aee50a6c-4984-4104-9efe-7021bad875be"
      },
      "execution_count": 32,
      "outputs": [
        {
          "output_type": "execute_result",
          "data": {
            "text/plain": [
              "('mercedes', 's class', 200, 2000000)"
            ]
          },
          "metadata": {},
          "execution_count": 32
        }
      ]
    },
    {
      "cell_type": "code",
      "source": [
        "# Ans 5\n",
        "\n",
        "class Animal:\n",
        "    def speak(self):\n",
        "        return \"Animal makes a sound\"\n",
        "\n",
        "class Dog(Animal):\n",
        "    def speak(self):\n",
        "        return \"Dog barks\"\n",
        "\n",
        "class Cat(Animal):\n",
        "    def speak(self):\n",
        "        return \"Cat meows\"\n",
        "\n",
        "# Example usage\n",
        "animal = Animal()\n",
        "print(animal.speak())\n",
        "\n",
        "dog = Dog()\n",
        "print(dog.speak())\n",
        "\n",
        "cat = Cat()\n",
        "print(cat.speak())\n"
      ],
      "metadata": {
        "colab": {
          "base_uri": "https://localhost:8080/"
        },
        "id": "hG7-Q5z3nPtm",
        "outputId": "4880d261-0a9f-4975-fd6c-5eddf94ba19a"
      },
      "execution_count": 35,
      "outputs": [
        {
          "output_type": "stream",
          "name": "stdout",
          "text": [
            "Animal makes a sound\n",
            "Dog barks\n",
            "Cat meows\n"
          ]
        }
      ]
    },
    {
      "cell_type": "code",
      "source": [],
      "metadata": {
        "id": "HuZtIH0ooCbm"
      },
      "execution_count": null,
      "outputs": []
    }
  ]
}