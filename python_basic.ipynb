{
  "nbformat": 4,
  "nbformat_minor": 0,
  "metadata": {
    "colab": {
      "provenance": []
    },
    "kernelspec": {
      "name": "python3",
      "display_name": "Python 3"
    },
    "language_info": {
      "name": "python"
    }
  },
  "cells": [
    {
      "cell_type": "markdown",
      "source": [
        "**Ans 1 :** Single-line comments: Begin with #, and the comment continues to the end of the line.\n",
        "for example :- # This is a single-line comment\n",
        "\n",
        "Multi-line comments: Enclosed in triple quotes ''' or \"\"\". These are often used for docstrings.\n",
        "for example :- \"\"\"This is a multi-line comment spanning several lines.And i am extendin it so that it actually extends to multiple lines.\"\"\""
      ],
      "metadata": {
        "id": "1km0wyPqT6F5"
      }
    },
    {
      "cell_type": "markdown",
      "source": [
        "**Ans 2 :** In Python, variables are used to store data values. They are labels or names that refer to a location in memory where data is stored. Python doesn't require external declaration of a variable type. You can directly assign a value to a variable, and Python automatically assigns its type.      \n",
        "Syntax :- variable_name = value\n"
      ],
      "metadata": {
        "id": "G9zlqzDQUhD6"
      }
    },
    {
      "cell_type": "markdown",
      "source": [
        "**Ans 3 :** In Python, you can convert one data type to another using type casting. Here are few of the common functions used for converting between data types:\n",
        "str():\n",
        "1.   str(): Converts to a string. eg. text = str(10)  # Converts integer 10 to string \"10\"\n",
        "2.   int(): Converts to an integer. eg. num = int(\"10\")  # Converts string \"10\" to integer 10\n",
        "\n"
      ],
      "metadata": {
        "id": "GdsjGtNGW5th"
      }
    },
    {
      "cell_type": "markdown",
      "source": [
        "**Ans 4 :** Write the source code for the task that you want to perform and then press \"Shift + enter\" to execute the whole cell."
      ],
      "metadata": {
        "id": "os31UHi7X1vB"
      }
    },
    {
      "cell_type": "code",
      "source": [
        "  # Ans 5\n",
        "  list=[1,2,3,4,5]\n",
        "  list[1:3]"
      ],
      "metadata": {
        "colab": {
          "base_uri": "https://localhost:8080/"
        },
        "id": "Sg2tLAnrXSjp",
        "outputId": "3ea4769d-2e95-4df4-f4b3-c64c199df2c8"
      },
      "execution_count": 3,
      "outputs": [
        {
          "output_type": "execute_result",
          "data": {
            "text/plain": [
              "[2, 3]"
            ]
          },
          "metadata": {},
          "execution_count": 3
        }
      ]
    },
    {
      "cell_type": "markdown",
      "source": [
        "**Ans 6 :** A complex number in mathematics is a number that has two parts:\n",
        "\n",
        "A real part (a real number).\n",
        "An imaginary part (a real number multiplied by the imaginary unit i, where i*i=-1 and , in python its generally depicted as -  a + bj\n",
        ", where a = real part, b = imaginary part.\n",
        "\n"
      ],
      "metadata": {
        "id": "rvUDJEMGYaGh"
      }
    },
    {
      "cell_type": "code",
      "execution_count": 5,
      "metadata": {
        "id": "fuySbVW4u5E1"
      },
      "outputs": [],
      "source": [
        "# Ans 7\n",
        "age = 25"
      ]
    },
    {
      "cell_type": "code",
      "source": [
        "# Ans 8\n",
        "price = 9.99\n",
        "print(type(price))      # it is of float data type."
      ],
      "metadata": {
        "colab": {
          "base_uri": "https://localhost:8080/"
        },
        "id": "F6RII7PuZi8z",
        "outputId": "9ef5bd42-f9b5-4403-b54b-bc5204c80693"
      },
      "execution_count": 6,
      "outputs": [
        {
          "output_type": "stream",
          "name": "stdout",
          "text": [
            "<class 'float'>\n"
          ]
        }
      ]
    },
    {
      "cell_type": "code",
      "source": [
        "# Ans 9\n",
        "name = \"Abhsihek Verma\"\n",
        "print(type(name))         # we use print function to print output."
      ],
      "metadata": {
        "colab": {
          "base_uri": "https://localhost:8080/"
        },
        "id": "3AZemmjNZsvR",
        "outputId": "f2928931-2315-45f5-a093-8e51bda33245"
      },
      "execution_count": 7,
      "outputs": [
        {
          "output_type": "stream",
          "name": "stdout",
          "text": [
            "<class 'str'>\n"
          ]
        }
      ]
    },
    {
      "cell_type": "code",
      "source": [
        "# Ans 10\n",
        "text = \"Hello, World\"\n",
        "text[7:12]"
      ],
      "metadata": {
        "colab": {
          "base_uri": "https://localhost:8080/",
          "height": 36
        },
        "id": "mDKl5KBFZ3x6",
        "outputId": "324ca58e-90a1-4fd4-840a-ea112fe0fe26"
      },
      "execution_count": 8,
      "outputs": [
        {
          "output_type": "execute_result",
          "data": {
            "text/plain": [
              "'World'"
            ],
            "application/vnd.google.colaboratory.intrinsic+json": {
              "type": "string"
            }
          },
          "metadata": {},
          "execution_count": 8
        }
      ]
    },
    {
      "cell_type": "code",
      "source": [
        "# Ans 11\n",
        "is_bool = True"
      ],
      "metadata": {
        "id": "-zkaGg-UaYD2"
      },
      "execution_count": 9,
      "outputs": []
    },
    {
      "cell_type": "code",
      "source": [],
      "metadata": {
        "id": "r3dnqA6kaoo0"
      },
      "execution_count": null,
      "outputs": []
    }
  ]
}